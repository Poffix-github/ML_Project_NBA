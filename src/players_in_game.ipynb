{
 "cells": [
  {
   "cell_type": "code",
   "execution_count": 103,
   "metadata": {},
   "outputs": [],
   "source": [
    "import pandas as pd"
   ]
  },
  {
   "cell_type": "code",
   "execution_count": 104,
   "metadata": {},
   "outputs": [
    {
     "name": "stderr",
     "output_type": "stream",
     "text": [
      "C:\\Users\\gcmil\\AppData\\Local\\Temp\\ipykernel_13536\\939863883.py:2: DtypeWarning: Columns (6) have mixed types. Specify dtype option on import or set low_memory=False.\n",
      "  players = pd.read_csv('../data/games_details.csv')\n"
     ]
    }
   ],
   "source": [
    "games = pd.read_csv('../data/games.csv')\n",
    "players = pd.read_csv('../data/games_details.csv')"
   ]
  },
  {
   "cell_type": "code",
   "execution_count": 105,
   "metadata": {},
   "outputs": [],
   "source": [
    "# New columns\n",
    "games['F1_HOME'] = ''\n",
    "games['F2_HOME'] = ''\n",
    "games['C_HOME'] = ''\n",
    "games['G1_HOME'] = ''\n",
    "games['G2_HOME'] = ''\n",
    "games['F1_AWAY'] = ''\n",
    "games['F2_AWAY'] = ''\n",
    "games['C_AWAY'] = ''\n",
    "games['G1_AWAY'] = ''\n",
    "games['G2_AWAY'] = ''"
   ]
  },
  {
   "cell_type": "code",
   "execution_count": 128,
   "metadata": {},
   "outputs": [
    {
     "ename": "KeyboardInterrupt",
     "evalue": "",
     "output_type": "error",
     "traceback": [
      "\u001b[1;31m---------------------------------------------------------------------------\u001b[0m",
      "\u001b[1;31mKeyboardInterrupt\u001b[0m                         Traceback (most recent call last)",
      "Cell \u001b[1;32mIn [128], line 18\u001b[0m\n\u001b[0;32m     16\u001b[0m games\u001b[39m.\u001b[39mloc[games\u001b[39m.\u001b[39mGAME_ID\u001b[39m==\u001b[39mgame_id, [\u001b[39m'\u001b[39m\u001b[39mF1_HOME\u001b[39m\u001b[39m'\u001b[39m]] \u001b[39m=\u001b[39m names[\u001b[39m0\u001b[39m]\n\u001b[0;32m     17\u001b[0m games\u001b[39m.\u001b[39mloc[games\u001b[39m.\u001b[39mGAME_ID\u001b[39m==\u001b[39mgame_id, [\u001b[39m'\u001b[39m\u001b[39mF2_HOME\u001b[39m\u001b[39m'\u001b[39m]] \u001b[39m=\u001b[39m names[\u001b[39m1\u001b[39m]\n\u001b[1;32m---> 18\u001b[0m games\u001b[39m.\u001b[39mloc[games\u001b[39m.\u001b[39;49mGAME_ID\u001b[39m==\u001b[39;49mgame_id, [\u001b[39m'\u001b[39m\u001b[39mC_HOME\u001b[39m\u001b[39m'\u001b[39m]] \u001b[39m=\u001b[39m names[\u001b[39m2\u001b[39m]\n\u001b[0;32m     19\u001b[0m games\u001b[39m.\u001b[39mloc[games\u001b[39m.\u001b[39mGAME_ID\u001b[39m==\u001b[39mgame_id, [\u001b[39m'\u001b[39m\u001b[39mG1_HOME\u001b[39m\u001b[39m'\u001b[39m]] \u001b[39m=\u001b[39m names[\u001b[39m3\u001b[39m]\n\u001b[0;32m     20\u001b[0m games\u001b[39m.\u001b[39mloc[games\u001b[39m.\u001b[39mGAME_ID\u001b[39m==\u001b[39mgame_id, [\u001b[39m'\u001b[39m\u001b[39mG2_HOME\u001b[39m\u001b[39m'\u001b[39m]] \u001b[39m=\u001b[39m names[\u001b[39m4\u001b[39m]\n",
      "File \u001b[1;32m~\\AppData\\Local\\Packages\\PythonSoftwareFoundation.Python.3.10_qbz5n2kfra8p0\\LocalCache\\local-packages\\Python310\\site-packages\\pandas\\core\\ops\\common.py:72\u001b[0m, in \u001b[0;36m_unpack_zerodim_and_defer.<locals>.new_method\u001b[1;34m(self, other)\u001b[0m\n\u001b[0;32m     68\u001b[0m             \u001b[39mreturn\u001b[39;00m \u001b[39mNotImplemented\u001b[39m\n\u001b[0;32m     70\u001b[0m other \u001b[39m=\u001b[39m item_from_zerodim(other)\n\u001b[1;32m---> 72\u001b[0m \u001b[39mreturn\u001b[39;00m method(\u001b[39mself\u001b[39;49m, other)\n",
      "File \u001b[1;32m~\\AppData\\Local\\Packages\\PythonSoftwareFoundation.Python.3.10_qbz5n2kfra8p0\\LocalCache\\local-packages\\Python310\\site-packages\\pandas\\core\\arraylike.py:42\u001b[0m, in \u001b[0;36mOpsMixin.__eq__\u001b[1;34m(self, other)\u001b[0m\n\u001b[0;32m     40\u001b[0m \u001b[39m@unpack_zerodim_and_defer\u001b[39m(\u001b[39m\"\u001b[39m\u001b[39m__eq__\u001b[39m\u001b[39m\"\u001b[39m)\n\u001b[0;32m     41\u001b[0m \u001b[39mdef\u001b[39;00m \u001b[39m__eq__\u001b[39m(\u001b[39mself\u001b[39m, other):\n\u001b[1;32m---> 42\u001b[0m     \u001b[39mreturn\u001b[39;00m \u001b[39mself\u001b[39;49m\u001b[39m.\u001b[39;49m_cmp_method(other, operator\u001b[39m.\u001b[39;49meq)\n",
      "File \u001b[1;32m~\\AppData\\Local\\Packages\\PythonSoftwareFoundation.Python.3.10_qbz5n2kfra8p0\\LocalCache\\local-packages\\Python310\\site-packages\\pandas\\core\\series.py:6243\u001b[0m, in \u001b[0;36mSeries._cmp_method\u001b[1;34m(self, other, op)\u001b[0m\n\u001b[0;32m   6240\u001b[0m rvalues \u001b[39m=\u001b[39m extract_array(other, extract_numpy\u001b[39m=\u001b[39m\u001b[39mTrue\u001b[39;00m, extract_range\u001b[39m=\u001b[39m\u001b[39mTrue\u001b[39;00m)\n\u001b[0;32m   6242\u001b[0m \u001b[39mwith\u001b[39;00m np\u001b[39m.\u001b[39merrstate(\u001b[39mall\u001b[39m\u001b[39m=\u001b[39m\u001b[39m\"\u001b[39m\u001b[39mignore\u001b[39m\u001b[39m\"\u001b[39m):\n\u001b[1;32m-> 6243\u001b[0m     res_values \u001b[39m=\u001b[39m ops\u001b[39m.\u001b[39;49mcomparison_op(lvalues, rvalues, op)\n\u001b[0;32m   6245\u001b[0m \u001b[39mreturn\u001b[39;00m \u001b[39mself\u001b[39m\u001b[39m.\u001b[39m_construct_result(res_values, name\u001b[39m=\u001b[39mres_name)\n",
      "File \u001b[1;32m~\\AppData\\Local\\Packages\\PythonSoftwareFoundation.Python.3.10_qbz5n2kfra8p0\\LocalCache\\local-packages\\Python310\\site-packages\\pandas\\core\\ops\\array_ops.py:290\u001b[0m, in \u001b[0;36mcomparison_op\u001b[1;34m(left, right, op)\u001b[0m\n\u001b[0;32m    287\u001b[0m     res_values \u001b[39m=\u001b[39m comp_method_OBJECT_ARRAY(op, lvalues, rvalues)\n\u001b[0;32m    289\u001b[0m \u001b[39melse\u001b[39;00m:\n\u001b[1;32m--> 290\u001b[0m     res_values \u001b[39m=\u001b[39m _na_arithmetic_op(lvalues, rvalues, op, is_cmp\u001b[39m=\u001b[39;49m\u001b[39mTrue\u001b[39;49;00m)\n\u001b[0;32m    292\u001b[0m \u001b[39mreturn\u001b[39;00m res_values\n",
      "File \u001b[1;32m~\\AppData\\Local\\Packages\\PythonSoftwareFoundation.Python.3.10_qbz5n2kfra8p0\\LocalCache\\local-packages\\Python310\\site-packages\\pandas\\core\\ops\\array_ops.py:165\u001b[0m, in \u001b[0;36m_na_arithmetic_op\u001b[1;34m(left, right, op, is_cmp)\u001b[0m\n\u001b[0;32m    162\u001b[0m     func \u001b[39m=\u001b[39m partial(expressions\u001b[39m.\u001b[39mevaluate, op)\n\u001b[0;32m    164\u001b[0m \u001b[39mtry\u001b[39;00m:\n\u001b[1;32m--> 165\u001b[0m     result \u001b[39m=\u001b[39m func(left, right)\n\u001b[0;32m    166\u001b[0m \u001b[39mexcept\u001b[39;00m \u001b[39mTypeError\u001b[39;00m:\n\u001b[0;32m    167\u001b[0m     \u001b[39mif\u001b[39;00m \u001b[39mnot\u001b[39;00m is_cmp \u001b[39mand\u001b[39;00m (is_object_dtype(left\u001b[39m.\u001b[39mdtype) \u001b[39mor\u001b[39;00m is_object_dtype(right)):\n\u001b[0;32m    168\u001b[0m         \u001b[39m# For object dtype, fallback to a masked operation (only operating\u001b[39;00m\n\u001b[0;32m    169\u001b[0m         \u001b[39m#  on the non-missing values)\u001b[39;00m\n\u001b[0;32m    170\u001b[0m         \u001b[39m# Don't do this for comparisons, as that will handle complex numbers\u001b[39;00m\n\u001b[0;32m    171\u001b[0m         \u001b[39m#  incorrectly, see GH#32047\u001b[39;00m\n",
      "File \u001b[1;32m~\\AppData\\Local\\Packages\\PythonSoftwareFoundation.Python.3.10_qbz5n2kfra8p0\\LocalCache\\local-packages\\Python310\\site-packages\\pandas\\core\\computation\\expressions.py:241\u001b[0m, in \u001b[0;36mevaluate\u001b[1;34m(op, a, b, use_numexpr)\u001b[0m\n\u001b[0;32m    238\u001b[0m \u001b[39mif\u001b[39;00m op_str \u001b[39mis\u001b[39;00m \u001b[39mnot\u001b[39;00m \u001b[39mNone\u001b[39;00m:\n\u001b[0;32m    239\u001b[0m     \u001b[39mif\u001b[39;00m use_numexpr:\n\u001b[0;32m    240\u001b[0m         \u001b[39m# error: \"None\" not callable\u001b[39;00m\n\u001b[1;32m--> 241\u001b[0m         \u001b[39mreturn\u001b[39;00m _evaluate(op, op_str, a, b)  \u001b[39m# type: ignore[misc]\u001b[39;00m\n\u001b[0;32m    242\u001b[0m \u001b[39mreturn\u001b[39;00m _evaluate_standard(op, op_str, a, b)\n",
      "File \u001b[1;32m~\\AppData\\Local\\Packages\\PythonSoftwareFoundation.Python.3.10_qbz5n2kfra8p0\\LocalCache\\local-packages\\Python310\\site-packages\\pandas\\core\\computation\\expressions.py:70\u001b[0m, in \u001b[0;36m_evaluate_standard\u001b[1;34m(op, op_str, a, b)\u001b[0m\n\u001b[0;32m     68\u001b[0m \u001b[39mif\u001b[39;00m _TEST_MODE:\n\u001b[0;32m     69\u001b[0m     _store_test_result(\u001b[39mFalse\u001b[39;00m)\n\u001b[1;32m---> 70\u001b[0m \u001b[39mreturn\u001b[39;00m op(a, b)\n",
      "\u001b[1;31mKeyboardInterrupt\u001b[0m: "
     ]
    }
   ],
   "source": [
    "errors = dict()\n",
    "for i, row in games.iterrows():\n",
    "    game_id = row['GAME_ID']\n",
    "    home_team_id = row['HOME_TEAM_ID']\n",
    "    away_team_id = row['VISITOR_TEAM_ID']\n",
    "\n",
    "    game = players[players.GAME_ID==game_id]\n",
    "    game = game.dropna(subset='START_POSITION')\n",
    "    home = game[game.TEAM_ID==home_team_id]\n",
    "    away = game[game.TEAM_ID==away_team_id]\n",
    "\n",
    "    names = list(dict.fromkeys(home[['PLAYER_NAME']].stack().values))\n",
    "    if(len(names)!=5):\n",
    "        errors[game_id] = names\n",
    "    else:\n",
    "        games.loc[games.GAME_ID==game_id, ['F1_HOME']] = names[0]\n",
    "        games.loc[games.GAME_ID==game_id, ['F2_HOME']] = names[1]\n",
    "        games.loc[games.GAME_ID==game_id, ['C_HOME']] = names[2]\n",
    "        games.loc[games.GAME_ID==game_id, ['G1_HOME']] = names[3]\n",
    "        games.loc[games.GAME_ID==game_id, ['G2_HOME']] = names[4]\n",
    "    # games.loc[games.GAME_ID==game_id, ['F1_HOME', 'F2_HOME', 'C_HOME', 'G1_HOME', 'G2_HOME']] = home[['PLAYER_NAME']].stack().values"
   ]
  },
  {
   "cell_type": "code",
   "execution_count": 124,
   "metadata": {},
   "outputs": [],
   "source": [
    "l = list(errors)\n",
    "max = games.loc[games.GAME_ID==l[0], ['GAME_DATE_EST']].stack().values[0]\n",
    "for i in l:\n",
    "    temp = games.loc[games.GAME_ID==i, ['GAME_DATE_EST']].stack().values[0]\n",
    "    if temp > max:\n",
    "        max = temp"
   ]
  },
  {
   "cell_type": "code",
   "execution_count": 125,
   "metadata": {},
   "outputs": [
    {
     "data": {
      "text/plain": [
       "'2013-10-25'"
      ]
     },
     "execution_count": 125,
     "metadata": {},
     "output_type": "execute_result"
    }
   ],
   "source": [
    "max"
   ]
  },
  {
   "cell_type": "code",
   "execution_count": 94,
   "metadata": {},
   "outputs": [
    {
     "data": {
      "text/plain": [
       "['Duncan Robinson', 'P.J. Tucker', 'Bam Adebayo', 'Gabe Vincent', 'Kyle Lowry']"
      ]
     },
     "execution_count": 94,
     "metadata": {},
     "output_type": "execute_result"
    }
   ],
   "source": [
    "game_id = 22101005\n",
    "home_team_id = 1610612748\n",
    "away_team_id = 1610612750\n",
    "\n",
    "game = players[players.GAME_ID==game_id]\n",
    "game = game.dropna(subset='START_POSITION')\n",
    "home = game[game.TEAM_ID==home_team_id]\n",
    "away = game[game.TEAM_ID==away_team_id]\n",
    "\n",
    "list(dict.fromkeys(home[['PLAYER_NAME']].stack().values))\n"
   ]
  },
  {
   "cell_type": "code",
   "execution_count": 48,
   "metadata": {},
   "outputs": [
    {
     "data": {
      "text/plain": [
       "1"
      ]
     },
     "execution_count": 48,
     "metadata": {},
     "output_type": "execute_result"
    }
   ],
   "source": [
    "len(games[games.GAME_ID==game_id][['F1_HOME', 'F2_HOME', 'C_HOME', 'G1_HOME', 'G2_HOME']])"
   ]
  },
  {
   "cell_type": "code",
   "execution_count": 61,
   "metadata": {},
   "outputs": [
    {
     "data": {
      "text/html": [
       "<div>\n",
       "<style scoped>\n",
       "    .dataframe tbody tr th:only-of-type {\n",
       "        vertical-align: middle;\n",
       "    }\n",
       "\n",
       "    .dataframe tbody tr th {\n",
       "        vertical-align: top;\n",
       "    }\n",
       "\n",
       "    .dataframe thead th {\n",
       "        text-align: right;\n",
       "    }\n",
       "</style>\n",
       "<table border=\"1\" class=\"dataframe\">\n",
       "  <thead>\n",
       "    <tr style=\"text-align: right;\">\n",
       "      <th></th>\n",
       "      <th>F1_HOME</th>\n",
       "      <th>F2_HOME</th>\n",
       "      <th>C_HOME</th>\n",
       "      <th>G1_HOME</th>\n",
       "      <th>G2_HOME</th>\n",
       "    </tr>\n",
       "  </thead>\n",
       "  <tbody>\n",
       "    <tr>\n",
       "      <th>0</th>\n",
       "      <td>Duncan Robinson</td>\n",
       "      <td>P.J. Tucker</td>\n",
       "      <td>Bam Adebayo</td>\n",
       "      <td>Gabe Vincent</td>\n",
       "      <td>Kyle Lowry</td>\n",
       "    </tr>\n",
       "  </tbody>\n",
       "</table>\n",
       "</div>"
      ],
      "text/plain": [
       "           F1_HOME      F2_HOME       C_HOME       G1_HOME     G2_HOME\n",
       "0  Duncan Robinson  P.J. Tucker  Bam Adebayo  Gabe Vincent  Kyle Lowry"
      ]
     },
     "execution_count": 61,
     "metadata": {},
     "output_type": "execute_result"
    }
   ],
   "source": [
    "games[games.GAME_ID==game_id][['F1_HOME', 'F2_HOME', 'C_HOME', 'G1_HOME', 'G2_HOME']]"
   ]
  }
 ],
 "metadata": {
  "kernelspec": {
   "display_name": "Python 3",
   "language": "python",
   "name": "python3"
  },
  "language_info": {
   "codemirror_mode": {
    "name": "ipython",
    "version": 3
   },
   "file_extension": ".py",
   "mimetype": "text/x-python",
   "name": "python",
   "nbconvert_exporter": "python",
   "pygments_lexer": "ipython3",
   "version": "3.10.9"
  },
  "orig_nbformat": 4,
  "vscode": {
   "interpreter": {
    "hash": "a0c65ca2b5f57550b7f4b24ac9925e993a236f50d0e8e5a8a4ba8b6733c01578"
   }
  }
 },
 "nbformat": 4,
 "nbformat_minor": 2
}
